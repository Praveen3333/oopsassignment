{
 "cells": [
  {
   "cell_type": "code",
   "execution_count": 1,
   "id": "91cdf3dc-9722-4539-a97e-6ec6de2536f7",
   "metadata": {},
   "outputs": [
    {
     "name": "stdout",
     "output_type": "stream",
     "text": [
      "Toyota\n",
      "Accord\n",
      "The Toyota Camry is being driven.\n",
      "The Honda Accord is being driven.\n"
     ]
    }
   ],
   "source": [
    "\"\"\"bject-oriented programming (OOP), a class is a blueprint or a template that defines the properties and behaviors of objects. It provides a way to create objects that share common characteristics and functionality. A class serves as a blueprint for creating multiple objects of the same type.\n",
    "\n",
    "An object, on the other hand, is an instance of a class. It represents a specific entity or item that is created based on the class definition. An object encapsulates data (properties or attributes) and behaviors (methods or functions) defined in the class.:\"\"\"\n",
    "class Car:\n",
    "    def __init__(self, brand, model):\n",
    "        self.brand = brand\n",
    "        self.model = model\n",
    "\n",
    "    def drive(self):\n",
    "        print(f\"The {self.brand} {self.model} is being driven.\")\n",
    "\n",
    "# Creating objects (instances) of the Car class\n",
    "car1 = Car(\"Toyota\", \"Camry\")\n",
    "car2 = Car(\"Honda\", \"Accord\")\n",
    "\n",
    "# Accessing object attributes\n",
    "print(car1.brand)  # Output: Toyota\n",
    "print(car2.model)  # Output: Accord\n",
    "\n",
    "# Calling object methods\n",
    "car1.drive()  # Output: The Toyota Camry is being driven.\n",
    "car2.drive()  # Output: The Honda Accord is being driven.\n"
   ]
  },
  {
   "cell_type": "code",
   "execution_count": null,
   "id": "b6f1d4df-7d62-4ded-b835-4e5e7e8ab9d5",
   "metadata": {},
   "outputs": [],
   "source": [
    "#2\n",
    "The four pillars of object-oriented programming (OOP) are:\n",
    "\n",
    "1. Encapsulation: Encapsulation is the process of bundling data (attributes) and methods (behaviors) together within a class. It allows the internal implementation details of an object to be hidden and accessed only through well-defined interfaces. Encapsulation helps in achieving data security, code modularity, and information hiding.\n",
    "\n",
    "2. Inheritance: Inheritance allows creating a new class (derived class or subclass) by inheriting the properties and methods from an existing class (base class or superclass). The derived class inherits the characteristics of the base class, enabling code reuse and promoting the concept of hierarchical relationships. Inheritance facilitates the extension and customization of classes.\n",
    "\n",
    "3. Polymorphism: Polymorphism allows objects of different classes to be treated as objects of a common superclass. It refers to the ability of objects to respond differently to the same message or method call based on their specific implementation. Polymorphism promotes code flexibility, extensibility, and modularity by enabling multiple objects to respond differently to the same interface or method.\n",
    "\n",
    "4. Abstraction: Abstraction refers to the process of simplifying complex systems by breaking them down into more manageable and understandable parts. It involves focusing on the essential features and hiding the unnecessary details. In OOP, abstraction is achieved through abstract classes and interfaces, which define a common interface and behavior without specifying the implementation details. Abstraction helps in managing complexity, providing a clear and high-level view of the system, and promoting code reusability.\n",
    "\n",
    "These four pillars provide the foundation for writing modular, reusable, and maintainable code in object-oriented programming paradigms, including Python. They contribute to the design principles and best practices in OOP and allow for efficient problem-solving and software development."
   ]
  },
  {
   "cell_type": "code",
   "execution_count": 2,
   "id": "68145987-d142-4552-a447-0b891be56872",
   "metadata": {},
   "outputs": [
    {
     "name": "stdout",
     "output_type": "stream",
     "text": [
      "Name: John, Age: 30\n",
      "Name: Jane, Age: 25\n"
     ]
    }
   ],
   "source": [
    "#3\n",
    "\"\"\"The __init__() function is a special method (constructor) in Python classes. It is automatically called when an object is created from a class and is used to initialize the attributes (data members) of the object.\n",
    "\n",
    "The primary purpose of the __init__() method is to ensure that all necessary attribute values are provided when an object is instantiated. It allows for the proper initialization and setup of object attributes, providing a way to define the initial state of the object.\"\"\"\n",
    "class Person:\n",
    "    def __init__(self, name, age):\n",
    "        self.name = name\n",
    "        self.age = age\n",
    "\n",
    "    def display_info(self):\n",
    "        print(f\"Name: {self.name}, Age: {self.age}\")\n",
    "\n",
    "# Creating objects and initializing attributes using __init__()\n",
    "person1 = Person(\"John\", 30)\n",
    "person2 = Person(\"Jane\", 25)\n",
    "\n",
    "# Accessing and displaying object attributes\n",
    "person1.display_info()  # Output: Name: John, Age: 30\n",
    "person2.display_info()  # Output: Name: Jane, Age: 25\n"
   ]
  },
  {
   "cell_type": "code",
   "execution_count": 3,
   "id": "46adf5cd-6f9e-4de8-87cc-3eb135d9182f",
   "metadata": {},
   "outputs": [
    {
     "name": "stdout",
     "output_type": "stream",
     "text": [
      "Hello, my name is John.\n"
     ]
    }
   ],
   "source": [
    "\"\"\"In object-oriented programming (OOP) with Python, self is a conventional name used to refer to the instance of a class within its own methods. It acts as a reference to the object itself. When defining methods in a class, self is the first parameter that is implicitly passed to the method.\n",
    "\n",
    "The primary purpose of self is to access the attributes and methods of the object within its own scope. By using self, you can refer to the object's own instance variables and invoke its own methods. It allows the object to maintain and manipulate its own state.\"\"\"\n",
    "class Person:\n",
    "    def __init__(self, name):\n",
    "        self.name = name\n",
    "\n",
    "    def greet(self):\n",
    "        print(f\"Hello, my name is {self.name}.\")\n",
    "\n",
    "# Creating an object and invoking its method\n",
    "person = Person(\"John\")\n",
    "person.greet()  # Output: Hello, my name is John.\n"
   ]
  },
  {
   "cell_type": "code",
   "execution_count": 6,
   "id": "ed4f2dfb-b19a-49de-ae63-9b7a1a56ce6e",
   "metadata": {},
   "outputs": [
    {
     "name": "stdout",
     "output_type": "stream",
     "text": [
      "Animal is eating.\n",
      "Dog is barking.\n"
     ]
    }
   ],
   "source": [
    "\"\"\"Inheritance is a fundamental concept in object-oriented programming (OOP) that allows a class to inherit the properties and behaviors (attributes and methods) of another class. It promotes code reuse and the creation of hierarchical relationships between classes.\n",
    "\n",
    "In Python, there are four types of inheritance:\n",
    "\n",
    "Single Inheritance: Single inheritance involves a class inheriting from a single base class. The derived class inherits all the attributes and methods of the base class. It represents an \"is-a\" relationship.\"\"\"\n",
    "#Example:\n",
    "class Animal:\n",
    "    def eat(self):\n",
    "        print(\"Animal is eating.\")\n",
    "\n",
    "class Dog(Animal):\n",
    "    def bark(self):\n",
    "        print(\"Dog is barking.\")\n",
    "\n",
    "# Creating an object of the derived class\n",
    "dog = Dog()\n",
    "\n",
    "# Calling methods from the base class and derived class\n",
    "dog.eat()  # Output: Animal is eating.\n",
    "dog.bark()  # Output: Dog is barking.\n",
    "\"\"\" Multiple Inheritance: Multiple inheritance involves a class inheriting from more than one base class. The derived class inherits attributes and methods from all the base classes. It allows for combining features from multiple classes. \"\"\" \n"
   ]
  },
  {
   "cell_type": "code",
   "execution_count": null,
   "id": "5337a46c-f436-4dea-86de-a763a30e27e8",
   "metadata": {},
   "outputs": [],
   "source": []
  }
 ],
 "metadata": {
  "kernelspec": {
   "display_name": "Python 3 (ipykernel)",
   "language": "python",
   "name": "python3"
  },
  "language_info": {
   "codemirror_mode": {
    "name": "ipython",
    "version": 3
   },
   "file_extension": ".py",
   "mimetype": "text/x-python",
   "name": "python",
   "nbconvert_exporter": "python",
   "pygments_lexer": "ipython3",
   "version": "3.10.8"
  }
 },
 "nbformat": 4,
 "nbformat_minor": 5
}
